{
  "nbformat": 4,
  "nbformat_minor": 0,
  "metadata": {
    "colab": {
      "provenance": []
    },
    "kernelspec": {
      "name": "python3",
      "display_name": "Python 3"
    },
    "language_info": {
      "name": "python"
    }
  },
  "cells": [
    {
      "cell_type": "code",
      "execution_count": 2,
      "metadata": {
        "id": "CDSYeA1CggH0"
      },
      "outputs": [],
      "source": [
        "import numpy as np\n",
        "import pandas as pd\n",
        "\n"
      ]
    },
    {
      "cell_type": "markdown",
      "source": [
        "2. Load Dataset\n",
        "Load the dataset using the provided path."
      ],
      "metadata": {
        "id": "JAlgskeyk64U"
      }
    },
    {
      "cell_type": "code",
      "source": [
        "\n",
        "# Load the dataset\n",
        "data = pd.read_csv(\"/content/drive/MyDrive/Concept and Technology of AI/student.csv\")\n",
        "\n",
        "# Check the first and last five rows\n",
        "print(\"First 5 rows:\\n\", data.head())\n",
        "print(\"\\nLast 5 rows:\\n\", data.tail())\n",
        "\n",
        "# Dataset information\n",
        "print(\"\\nDataset Info:\")\n",
        "data.info()\n",
        "\n",
        "# Descriptive statistics\n",
        "print(\"\\nDescriptive Statistics:\")\n",
        "print(data.describe())\n",
        "\n"
      ],
      "metadata": {
        "colab": {
          "base_uri": "https://localhost:8080/"
        },
        "id": "1SCApfpGiCsq",
        "outputId": "6724b534-290f-447d-b387-158f77fd1200"
      },
      "execution_count": 3,
      "outputs": [
        {
          "output_type": "stream",
          "name": "stdout",
          "text": [
            "First 5 rows:\n",
            "    Math  Reading  Writing\n",
            "0    48       68       63\n",
            "1    62       81       72\n",
            "2    79       80       78\n",
            "3    76       83       79\n",
            "4    59       64       62\n",
            "\n",
            "Last 5 rows:\n",
            "      Math  Reading  Writing\n",
            "995    72       74       70\n",
            "996    73       86       90\n",
            "997    89       87       94\n",
            "998    83       82       78\n",
            "999    66       66       72\n",
            "\n",
            "Dataset Info:\n",
            "<class 'pandas.core.frame.DataFrame'>\n",
            "RangeIndex: 1000 entries, 0 to 999\n",
            "Data columns (total 3 columns):\n",
            " #   Column   Non-Null Count  Dtype\n",
            "---  ------   --------------  -----\n",
            " 0   Math     1000 non-null   int64\n",
            " 1   Reading  1000 non-null   int64\n",
            " 2   Writing  1000 non-null   int64\n",
            "dtypes: int64(3)\n",
            "memory usage: 23.6 KB\n",
            "\n",
            "Descriptive Statistics:\n",
            "              Math      Reading      Writing\n",
            "count  1000.000000  1000.000000  1000.000000\n",
            "mean     67.290000    69.872000    68.616000\n",
            "std      15.085008    14.657027    15.241287\n",
            "min      13.000000    19.000000    14.000000\n",
            "25%      58.000000    60.750000    58.000000\n",
            "50%      68.000000    70.000000    69.500000\n",
            "75%      78.000000    81.000000    79.000000\n",
            "max     100.000000   100.000000   100.000000\n"
          ]
        }
      ]
    },
    {
      "cell_type": "code",
      "source": [
        "from google.colab import drive\n",
        "drive.mount('/content/drive')"
      ],
      "metadata": {
        "colab": {
          "base_uri": "https://localhost:8080/"
        },
        "id": "abNCibg_oXvy",
        "outputId": "a5e29b7d-38e8-441c-972a-812e4f01bb6a"
      },
      "execution_count": 1,
      "outputs": [
        {
          "output_type": "stream",
          "name": "stdout",
          "text": [
            "Mounted at /content/drive\n"
          ]
        }
      ]
    },
    {
      "cell_type": "markdown",
      "source": [
        "3. Split Data into Features (X) and Target (Y)\n",
        "Extract the features (Math, Reading) and the target (Writing)."
      ],
      "metadata": {
        "id": "Gc71x9Nqk9wh"
      }
    },
    {
      "cell_type": "code",
      "source": [
        "# Extract features (Math and Reading) and target (Writing)\n",
        "X = data[['Math', 'Reading']].values\n",
        "Y = data['Writing'].values\n"
      ],
      "metadata": {
        "id": "1oVhH-RziDXL"
      },
      "execution_count": 4,
      "outputs": []
    },
    {
      "cell_type": "markdown",
      "source": [
        "4. Manual Train-Test Split\n",
        "Split the dataset into training and testing sets (80%-20%) manually."
      ],
      "metadata": {
        "id": "2kklP7v1lBpr"
      }
    },
    {
      "cell_type": "code",
      "source": [
        "def manual_train_test_split(X, Y, test_size=0.2, random_state=None):\n",
        "    if random_state is not None:\n",
        "        np.random.seed(random_state)\n",
        "\n",
        "    indices = np.arange(len(X))\n",
        "    np.random.shuffle(indices)\n",
        "\n",
        "    split_idx = int(len(X) * (1 - test_size))\n",
        "    train_indices = indices[:split_idx]\n",
        "    test_indices = indices[split_idx:]\n",
        "\n",
        "    X_train = X[train_indices]\n",
        "    X_test = X[test_indices]\n",
        "    Y_train = Y[train_indices]\n",
        "    Y_test = Y[test_indices]\n",
        "\n",
        "    return X_train, X_test, Y_train, Y_test\n",
        "\n",
        "# Perform train-test split\n",
        "X_train, X_test, Y_train, Y_test = manual_train_test_split(X, Y, test_size=0.2, random_state=42)\n"
      ],
      "metadata": {
        "id": "oqw8pDOnizIN"
      },
      "execution_count": 5,
      "outputs": []
    },
    {
      "cell_type": "markdown",
      "source": [
        "5. Define the Cost Function\n",
        "Manually implement the Mean Squared Error (MSE) as the cost function."
      ],
      "metadata": {
        "id": "iZ1S-Sl6lIXD"
      }
    },
    {
      "cell_type": "code",
      "source": [
        "def cost_function(X, Y, W):\n",
        "    predictions = np.dot(X, W)\n",
        "    errors = predictions - Y\n",
        "    cost = np.mean(errors ** 2) / 2\n",
        "    return cost\n"
      ],
      "metadata": {
        "id": "VUlv1-Dqjfy3"
      },
      "execution_count": 6,
      "outputs": []
    },
    {
      "cell_type": "markdown",
      "source": [
        "6. Implement Gradient Descent\n",
        "Optimize the weights using gradient descent."
      ],
      "metadata": {
        "id": "mhzl69FglMYy"
      }
    },
    {
      "cell_type": "code",
      "source": [
        "def gradient_descent(X, Y, W, alpha, iterations):\n",
        "    m = len(Y)\n",
        "    cost_history = []\n",
        "\n",
        "    for _ in range(iterations):\n",
        "        predictions = np.dot(X, W)\n",
        "        errors = predictions - Y\n",
        "        gradient = np.dot(X.T, errors) / m\n",
        "        W -= alpha * gradient\n",
        "        cost = cost_function(X, Y, W)\n",
        "        cost_history.append(cost)\n",
        "\n",
        "    return W, cost_history\n"
      ],
      "metadata": {
        "id": "blyeHw7fjiJ2"
      },
      "execution_count": 7,
      "outputs": []
    },
    {
      "cell_type": "markdown",
      "source": [
        "7. Model Evaluation\n",
        "Implement RMSE and R² evaluation metrics from scratch."
      ],
      "metadata": {
        "id": "JRQ0yIyclO-l"
      }
    },
    {
      "cell_type": "code",
      "source": [
        "def rmse(Y, Y_pred):\n",
        "    return np.sqrt(np.mean((Y_pred - Y) ** 2))\n",
        "\n",
        "def r2(Y, Y_pred):\n",
        "    ss_res = np.sum((Y - Y_pred) ** 2)\n",
        "    ss_tot = np.sum((Y - np.mean(Y)) ** 2)\n",
        "    return 1 - (ss_res / ss_tot)\n"
      ],
      "metadata": {
        "id": "4LKd1GOojkJ2"
      },
      "execution_count": 8,
      "outputs": []
    },
    {
      "cell_type": "markdown",
      "source": [
        "8. Integrate All Steps\n",
        "Combine everything into a main function to execute the workflow."
      ],
      "metadata": {
        "id": "Oa6ohQ_0lQ_t"
      }
    },
    {
      "cell_type": "code",
      "source": [
        "def main():\n",
        "    # Step 1: Load dataset\n",
        "    data = pd.read_csv('/content/drive/MyDrive/Concept and Technology of AI/student.csv')\n",
        "    X = data[['Math', 'Reading']].values\n",
        "    Y = data['Writing'].values\n",
        "\n",
        "    # Step 2: Split the dataset\n",
        "    X_train, X_test, Y_train, Y_test = manual_train_test_split(X, Y, test_size=0.2, random_state=42)\n",
        "\n",
        "    # Step 3: Initialize weights and parameters\n",
        "    W = np.zeros(X_train.shape[1])  # Initialize weights\n",
        "    alpha = 0.01  # Learning rate\n",
        "    iterations = 1000  # Number of iterations\n",
        "\n",
        "    # Step 4: Perform gradient descent\n",
        "    W_optimal, cost_history = gradient_descent(X_train, Y_train, W, alpha, iterations)\n",
        "\n",
        "    # Step 5: Make predictions\n",
        "    Y_pred = np.dot(X_test, W_optimal)\n",
        "\n",
        "    # Step 6: Evaluate the model\n",
        "    model_rmse = rmse(Y_test, Y_pred)\n",
        "    model_r2 = r2(Y_test, Y_pred)\n",
        "\n",
        "    # Step 7: Output results\n",
        "    print(\"Final Weights:\", W_optimal)\n",
        "    print(\"Cost History (First 10 iterations):\", cost_history[:10])\n",
        "    print(\"RMSE on Test Set:\", model_rmse)\n",
        "    print(\"R-Squared on Test Set:\", model_r2)\n",
        "\n",
        "# Run the main function\n",
        "if __name__ == \"__main__\":\n",
        "    main()\n"
      ],
      "metadata": {
        "colab": {
          "base_uri": "https://localhost:8080/"
        },
        "id": "bw7av001jnaJ",
        "outputId": "0feba1fb-b3f1-44bf-b5b4-167fb3c6fed9"
      },
      "execution_count": 9,
      "outputs": [
        {
          "output_type": "stream",
          "name": "stdout",
          "text": [
            "Final Weights: [nan nan]\n",
            "Cost History (First 10 iterations): [23036510.873437613, 216969014973.9958, 2043520376885335.8, 1.924687509625204e+19, 1.8127648990481012e+23, 1.7073507064327466e+27, 1.6080664604037283e+31, 1.5145556980956626e+35, 1.426482685335115e+39, 1.34353121124526e+43]\n",
            "RMSE on Test Set: nan\n",
            "R-Squared on Test Set: nan\n"
          ]
        },
        {
          "output_type": "stream",
          "name": "stderr",
          "text": [
            "/usr/local/lib/python3.10/dist-packages/numpy/core/_methods.py:118: RuntimeWarning: overflow encountered in reduce\n",
            "  ret = umr_sum(arr, axis, dtype, out, keepdims, where=where)\n",
            "<ipython-input-6-4f81e4d6e87a>:4: RuntimeWarning: overflow encountered in square\n",
            "  cost = np.mean(errors ** 2) / 2\n",
            "<ipython-input-7-c15d76096df0>:9: RuntimeWarning: invalid value encountered in subtract\n",
            "  W -= alpha * gradient\n"
          ]
        }
      ]
    },
    {
      "cell_type": "markdown",
      "source": [
        "9. Experiment with Learning Rates\n",
        "Test the model with different learning rates (alpha):\n",
        "\n",
        "Low learning rate (e.g., alpha = 0.001) to observe slow convergence.\n",
        "High learning rate (e.g., alpha = 0.1) to test for divergence or fast convergence.\n",
        "Modify the alpha value in the main() function to experiment."
      ],
      "metadata": {
        "id": "tHCWF2evk3Nb"
      }
    }
  ]
}