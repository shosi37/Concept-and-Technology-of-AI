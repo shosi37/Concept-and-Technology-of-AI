{
  "nbformat": 4,
  "nbformat_minor": 0,
  "metadata": {
    "colab": {
      "provenance": []
    },
    "kernelspec": {
      "name": "python3",
      "display_name": "Python 3"
    },
    "language_info": {
      "name": "python"
    }
  },
  "cells": [
    {
      "cell_type": "code",
      "execution_count": null,
      "metadata": {
        "colab": {
          "base_uri": "https://localhost:8080/",
          "height": 193
        },
        "id": "ptrQ9xMiKHmU",
        "outputId": "c0ea7ef0-9a68-47db-d23d-87b4caa07f20"
      },
      "outputs": [
        {
          "output_type": "error",
          "ename": "NameError",
          "evalue": "name 'reshape' is not defined",
          "traceback": [
            "\u001b[0;31m---------------------------------------------------------------------------\u001b[0m",
            "\u001b[0;31mNameError\u001b[0m                                 Traceback (most recent call last)",
            "\u001b[0;32m<ipython-input-9-bfdc7bcf6114>\u001b[0m in \u001b[0;36m<cell line: 5>\u001b[0;34m()\u001b[0m\n\u001b[1;32m      3\u001b[0m \u001b[0ma\u001b[0m\u001b[0;34m.\u001b[0m\u001b[0mshape\u001b[0m \u001b[0;34m,\u001b[0m \u001b[0ma\u001b[0m\u001b[0;34m.\u001b[0m\u001b[0mshape\u001b[0m\u001b[0;34m\u001b[0m\u001b[0;34m\u001b[0m\u001b[0m\n\u001b[1;32m      4\u001b[0m \u001b[0;34m\u001b[0m\u001b[0m\n\u001b[0;32m----> 5\u001b[0;31m \u001b[0mb\u001b[0m \u001b[0;34m=\u001b[0m \u001b[0mnp\u001b[0m\u001b[0;34m.\u001b[0m\u001b[0marange\u001b[0m\u001b[0;34m(\u001b[0m\u001b[0;36m6\u001b[0m\u001b[0;34m)\u001b[0m\u001b[0;34m,\u001b[0m \u001b[0mreshape\u001b[0m \u001b[0;34m(\u001b[0m\u001b[0;36m2\u001b[0m\u001b[0;34m,\u001b[0m\u001b[0;36m3\u001b[0m\u001b[0;34m)\u001b[0m\u001b[0;34m\u001b[0m\u001b[0;34m\u001b[0m\u001b[0m\n\u001b[0m\u001b[1;32m      6\u001b[0m \u001b[0mb\u001b[0m\u001b[0;34m.\u001b[0m\u001b[0mshape\u001b[0m\u001b[0;34m\u001b[0m\u001b[0;34m\u001b[0m\u001b[0m\n",
            "\u001b[0;31mNameError\u001b[0m: name 'reshape' is not defined"
          ]
        }
      ],
      "source": [
        "import numpy as np\n",
        "a = np.array ([[1,2,3,4],[5,6,7,8]])\n",
        "a.shape , a.shape\n",
        "\n",
        "b = np.arange(6), reshape (2,3)\n",
        "b.shape\n"
      ]
    },
    {
      "cell_type": "code",
      "source": [
        "import numpy as np\n",
        "import random\n",
        "from timeit import timeit\n",
        "\n",
        "# Define addition functions\n",
        "def add_python(Z1, Z2):\n",
        "    return [z1 + z2 for z1, z2 in zip(Z1, Z2)]\n",
        "\n",
        "def add_numpy(Z1, Z2):\n",
        "    return np.add(Z1, Z2)\n",
        "\n",
        "# Generate larger random sample data\n",
        "size = 100000  # Increased size for more pronounced difference\n",
        "Z1_list = random.sample(range(size + 1), size)\n",
        "Z2_list = random.sample(range(size + 1), size)\n",
        "Z1_np = np.array(Z1_list)\n",
        "Z2_np = np.array(Z2_list)\n",
        "\n",
        "# Time the execution of each function\n",
        "python_time = timeit(\"add_python(Z1_list, Z2_list)\", globals=globals(), number=100)\n",
        "numpy_time = timeit(\"add_numpy(Z1_np, Z2_np)\", globals=globals(), number=100)\n",
        "\n",
        "# Print results\n",
        "print(f\"Pure Python addition: {python_time:.6f} seconds per loop\")\n",
        "print(f\"NumPy addition: {numpy_time:.6f} seconds per loop\")\n"
      ],
      "metadata": {
        "colab": {
          "base_uri": "https://localhost:8080/"
        },
        "id": "LPVoqLfDKRqR",
        "outputId": "f1faf00f-6589-4601-d2a0-cdc46e1a4c0b"
      },
      "execution_count": null,
      "outputs": [
        {
          "output_type": "stream",
          "name": "stdout",
          "text": [
            "Pure Python addition: 2.982305 seconds per loop\n",
            "NumPy addition: 0.012158 seconds per loop\n"
          ]
        }
      ]
    },
    {
      "cell_type": "code",
      "source": [
        "import numpy as np\n",
        "\n",
        "# Create and display zero, one, and n-dimensional arrays\n",
        "zero_dim_array = np.array(5)\n",
        "one_dim_array = np.array([1, 2, 3])\n",
        "n_dim_array = np.array([[1, 2], [3, 4]])\n",
        "\n",
        "for arr in [zero_dim_array, one_dim_array, n_dim_array]:\n",
        "    print(f\"Array:\\n{arr}\\nDimension: {arr.ndim}\\nData type: {arr.dtype}\\n\")\n"
      ],
      "metadata": {
        "colab": {
          "base_uri": "https://localhost:8080/"
        },
        "id": "J--sYu4sKS8y",
        "outputId": "a074164f-adc5-43a3-de24-0b565f8ddc79"
      },
      "execution_count": null,
      "outputs": [
        {
          "output_type": "stream",
          "name": "stdout",
          "text": [
            "Array:\n",
            "5\n",
            "Dimension: 0\n",
            "Data type: int64\n",
            "\n",
            "Array:\n",
            "[1 2 3]\n",
            "Dimension: 1\n",
            "Data type: int64\n",
            "\n",
            "Array:\n",
            "[[1 2]\n",
            " [3 4]]\n",
            "Dimension: 2\n",
            "Data type: int64\n",
            "\n"
          ]
        }
      ]
    },
    {
      "cell_type": "code",
      "source": [
        "import numpy as np\n",
        "\n",
        "# Create arrays of different dimensions\n",
        "array_0d = np.array(5)\n",
        "array_1d = np.array([1, 2, 3, 4, 5])\n",
        "array_2d = np.array([[1, 2, 3], [4, 5, 6]])\n",
        "array_3d = np.array([[[1, 2], [3, 4]], [[5, 6], [7, 8]]])\n",
        "\n",
        "# Print arrays with shapes\n",
        "for i, arr in enumerate([array_0d, array_1d, array_2d, array_3d]):\n",
        "    print(f\"{i}D Array:\\n{arr}\\nShape: {arr.shape}\\n\")\n"
      ],
      "metadata": {
        "colab": {
          "base_uri": "https://localhost:8080/"
        },
        "id": "QuCizrBiOhLT",
        "outputId": "139f2655-a2e2-40d9-deb2-fc63501794d0"
      },
      "execution_count": null,
      "outputs": [
        {
          "output_type": "stream",
          "name": "stdout",
          "text": [
            "0D Array:\n",
            "5\n",
            "Shape: ()\n",
            "\n",
            "1D Array:\n",
            "[1 2 3 4 5]\n",
            "Shape: (5,)\n",
            "\n",
            "2D Array:\n",
            "[[1 2 3]\n",
            " [4 5 6]]\n",
            "Shape: (2, 3)\n",
            "\n",
            "3D Array:\n",
            "[[[1 2]\n",
            "  [3 4]]\n",
            "\n",
            " [[5 6]\n",
            "  [7 8]]]\n",
            "Shape: (2, 2, 2)\n",
            "\n"
          ]
        }
      ]
    },
    {
      "cell_type": "code",
      "source": [
        "import numpy as np\n",
        "\n",
        "# Using numpy's arange function\n",
        "a = np.arange(1, 10)\n",
        "print(a)\n",
        "\n",
        "# Using Python's range function\n",
        "x = range(1, 10)\n",
        "print(x)  # x is an iterator\n",
        "print(list(x))  # converting to list for display\n",
        "\n",
        "# Further arange examples\n",
        "x = np.arange(10.4)\n",
        "print(x)\n",
        "\n",
        "x = np.arange(0.5, 10.4, 0.8)\n",
        "print(x)\n"
      ],
      "metadata": {
        "colab": {
          "base_uri": "https://localhost:8080/"
        },
        "id": "t-qZn9QeOy8d",
        "outputId": "c334bd95-cb9b-4969-cdef-bc568afa396e"
      },
      "execution_count": null,
      "outputs": [
        {
          "output_type": "stream",
          "name": "stdout",
          "text": [
            "[1 2 3 4 5 6 7 8 9]\n",
            "range(1, 10)\n",
            "[1, 2, 3, 4, 5, 6, 7, 8, 9]\n",
            "[ 0.  1.  2.  3.  4.  5.  6.  7.  8.  9. 10.]\n",
            "[ 0.5  1.3  2.1  2.9  3.7  4.5  5.3  6.1  6.9  7.7  8.5  9.3 10.1]\n"
          ]
        }
      ]
    },
    {
      "cell_type": "code",
      "source": [
        "import numpy as np\n",
        "\n",
        "# Create an array\n",
        "array = np.array([1, 2, 3])\n",
        "\n",
        "# Multiply each element by 2\n",
        "new_array = array * 2\n",
        "\n",
        "# Copy the array\n",
        "copied_array = np.copy(array)\n",
        "\n",
        "# Slice the array from index 1 to 2\n",
        "sliced_array = array[1:2]\n",
        "\n",
        "# Print results\n",
        "print(\"Original array:\", array)\n",
        "print(\"Array multiplied by 2:\", new_array)\n",
        "print(\"Copied array:\", copied_array)\n",
        "print(\"Sliced array:\", sliced_array)\n"
      ],
      "metadata": {
        "colab": {
          "base_uri": "https://localhost:8080/"
        },
        "id": "dMsFe09SQAr9",
        "outputId": "6c0ad5b3-c5f2-4d8a-8895-4e17d8347cef"
      },
      "execution_count": null,
      "outputs": [
        {
          "output_type": "stream",
          "name": "stdout",
          "text": [
            "Original array: [1 2 3]\n",
            "Array multiplied by 2: [2 4 6]\n",
            "Copied array: [1 2 3]\n",
            "Sliced array: [2]\n"
          ]
        }
      ]
    },
    {
      "cell_type": "code",
      "source": [
        "import numpy as np\n",
        "\n",
        "# Create two 2x2 arrays\n",
        "arr1 = np.array([[1, 2], [3, 4]])   # Shape: (2, 2)\n",
        "arr2 = np.array([[5, 6], [7, 8]])   # Shape: (2, 2)\n",
        "\n",
        "# Stacking examples\n",
        "hstacked = np.hstack((arr1, arr2))\n",
        "# Output hstack: [[1 2 5 6]\n",
        "#                 [3 4 7 8]]\n",
        "\n",
        "vstacked = np.vstack((arr1, arr2))\n",
        "# Output vstack: [[1 2]\n",
        "#                 [3 4]\n",
        "#                 [5 6]\n",
        "#                 [7 8]]\n",
        "\n",
        "colstacked = np.column_stack((arr1[0], arr2[0]))\n",
        "# Output column stack: [[1 5]\n",
        "#                       [2 6]]\n",
        "\n",
        "print(hstacked)\n",
        "print(vstacked)\n",
        "print(colstacked)\n"
      ],
      "metadata": {
        "colab": {
          "base_uri": "https://localhost:8080/"
        },
        "id": "BvHcJ6NkQA6x",
        "outputId": "ebdb08ec-994f-42fc-d68e-8483e6c90eb4"
      },
      "execution_count": null,
      "outputs": [
        {
          "output_type": "stream",
          "name": "stdout",
          "text": [
            "[[1 2 5 6]\n",
            " [3 4 7 8]]\n",
            "[[1 2]\n",
            " [3 4]\n",
            " [5 6]\n",
            " [7 8]]\n",
            "[[1 5]\n",
            " [2 6]]\n"
          ]
        }
      ]
    },
    {
      "cell_type": "markdown",
      "source": [
        "worksheet 1"
      ],
      "metadata": {
        "id": "KqXiu89ZWTTU"
      }
    },
    {
      "cell_type": "markdown",
      "source": [
        "task 1"
      ],
      "metadata": {
        "id": "25OQ9AuIW-LE"
      }
    },
    {
      "cell_type": "code",
      "source": [
        "import numpy as np\n",
        "\n",
        "# Task 1: Initialize an empty array with size 2x2\n",
        "empty_array = np.empty((2, 2))\n",
        "print(\"Empty array:\\n\", empty_array)\n",
        "\n",
        "# Task 2: Initialize an all-one array with size 4x2\n",
        "ones_array = np.ones((4, 2))\n",
        "print(\"\\nAll-one array:\\n\", ones_array)\n",
        "\n",
        "# Task 3: Return a new array filled with a specific value\n",
        "filled_array = np.full((3, 3), 7)  # Shape 3x3, filled with 7\n",
        "print(\"\\nFilled array:\\n\", filled_array)\n",
        "\n",
        "# Task 4: Return a zeros array with the same shape as another array\n",
        "base_array = np.array([[1, 2], [3, 4]])\n",
        "zeros_like_array = np.zeros_like(base_array)\n",
        "print(\"\\nZeros array like base array:\\n\", zeros_like_array)\n",
        "\n",
        "# Task 5: Return a ones array with the same shape as another array\n",
        "ones_like_array = np.ones_like(base_array)\n",
        "print(\"\\nOnes array like base array:\\n\", ones_like_array)\n",
        "\n",
        "# Task 6: Convert a list to a NumPy array\n",
        "new_list = [1, 2, 3, 4]\n",
        "array_from_list = np.array(new_list)\n",
        "print(\"\\nConverted NumPy array:\\n\", array_from_list)\n"
      ],
      "metadata": {
        "colab": {
          "base_uri": "https://localhost:8080/"
        },
        "id": "AuPTIoavQBHP",
        "outputId": "1799988f-34fc-405a-c5d4-e695861dbe1a"
      },
      "execution_count": null,
      "outputs": [
        {
          "output_type": "stream",
          "name": "stdout",
          "text": [
            "Empty array:\n",
            " [[4.9e-324 9.9e-324]\n",
            " [1.5e-323 2.0e-323]]\n",
            "\n",
            "All-one array:\n",
            " [[1. 1.]\n",
            " [1. 1.]\n",
            " [1. 1.]\n",
            " [1. 1.]]\n",
            "\n",
            "Filled array:\n",
            " [[7 7 7]\n",
            " [7 7 7]\n",
            " [7 7 7]]\n",
            "\n",
            "Zeros array like base array:\n",
            " [[0 0]\n",
            " [0 0]]\n",
            "\n",
            "Ones array like base array:\n",
            " [[1 1]\n",
            " [1 1]]\n",
            "\n",
            "Converted NumPy array:\n",
            " [1 2 3 4]\n"
          ]
        }
      ]
    },
    {
      "cell_type": "markdown",
      "source": [
        "task 2"
      ],
      "metadata": {
        "id": "Ej01Gr9CXQda"
      }
    },
    {
      "cell_type": "code",
      "source": [
        "# Task 1: Create an array with values ranging from 10 to 49\n",
        "range_array = np.arange(10, 50)\n",
        "print(\"Array with values from 10 to 49:\\n\", range_array)\n",
        "\n",
        "# Task 2: Create a 3x3 matrix with values from 0 to 8\n",
        "matrix_3x3 = np.arange(9).reshape(3, 3)\n",
        "print(\"\\n3x3 Matrix:\\n\", matrix_3x3)\n",
        "\n",
        "# Task 3: Create a 3x3 identity matrix\n",
        "identity_matrix = np.eye(3)\n",
        "print(\"\\nIdentity Matrix:\\n\", identity_matrix)\n",
        "\n",
        "# Task 4: Create a random array of size 30 and find the mean\n",
        "random_array = np.random.random(30)\n",
        "print(\"\\nMean of random array:\", random_array.mean())\n",
        "\n",
        "# Task 5: Create a 10x10 array with random values and find min and max\n",
        "large_random_array = np.random.random((10, 10))\n",
        "print(\"\\nMinimum value:\", large_random_array.min())\n",
        "print(\"Maximum value:\", large_random_array.max())\n",
        "\n",
        "# Task 6: Create a zero array of size 10 and replace the 5th element with 1\n",
        "zero_array = np.zeros(10)\n",
        "zero_array[4] = 1\n",
        "print(\"\\nModified zero array:\\n\", zero_array)\n",
        "\n",
        "# Task 7: Reverse an array\n",
        "arr = [1, 2, 0, 0, 4, 0]\n",
        "reversed_array = arr[::-1]\n",
        "print(\"\\nReversed array:\\n\", reversed_array)\n",
        "\n",
        "# Task 8: Create a 2D array with 1 on border and 0 inside\n",
        "bordered_array = np.ones((5, 5))\n",
        "bordered_array[1:-1, 1:-1] = 0\n",
        "print(\"\\n2D array with border of 1s:\\n\", bordered_array)\n",
        "\n",
        "# Task 9: Create an 8x8 checkerboard pattern\n",
        "checkerboard = np.zeros((8, 8), dtype=int)\n",
        "checkerboard[1::2, ::2] = 1\n",
        "checkerboard[::2, 1::2] = 1\n",
        "print(\"\\nCheckerboard pattern:\\n\", checkerboard)\n"
      ],
      "metadata": {
        "colab": {
          "base_uri": "https://localhost:8080/"
        },
        "id": "hdYpC88sVQw0",
        "outputId": "48cafa40-d8f9-49e8-b2d7-2af9e01385e5"
      },
      "execution_count": null,
      "outputs": [
        {
          "output_type": "stream",
          "name": "stdout",
          "text": [
            "Array with values from 10 to 49:\n",
            " [10 11 12 13 14 15 16 17 18 19 20 21 22 23 24 25 26 27 28 29 30 31 32 33\n",
            " 34 35 36 37 38 39 40 41 42 43 44 45 46 47 48 49]\n",
            "\n",
            "3x3 Matrix:\n",
            " [[0 1 2]\n",
            " [3 4 5]\n",
            " [6 7 8]]\n",
            "\n",
            "Identity Matrix:\n",
            " [[1. 0. 0.]\n",
            " [0. 1. 0.]\n",
            " [0. 0. 1.]]\n",
            "\n",
            "Mean of random array: 0.37930451693770556\n",
            "\n",
            "Minimum value: 0.0014245617310507663\n",
            "Maximum value: 0.9646528833427859\n",
            "\n",
            "Modified zero array:\n",
            " [0. 0. 0. 0. 1. 0. 0. 0. 0. 0.]\n",
            "\n",
            "Reversed array:\n",
            " [0, 4, 0, 0, 2, 1]\n",
            "\n",
            "2D array with border of 1s:\n",
            " [[1. 1. 1. 1. 1.]\n",
            " [1. 0. 0. 0. 1.]\n",
            " [1. 0. 0. 0. 1.]\n",
            " [1. 0. 0. 0. 1.]\n",
            " [1. 1. 1. 1. 1.]]\n",
            "\n",
            "Checkerboard pattern:\n",
            " [[0 1 0 1 0 1 0 1]\n",
            " [1 0 1 0 1 0 1 0]\n",
            " [0 1 0 1 0 1 0 1]\n",
            " [1 0 1 0 1 0 1 0]\n",
            " [0 1 0 1 0 1 0 1]\n",
            " [1 0 1 0 1 0 1 0]\n",
            " [0 1 0 1 0 1 0 1]\n",
            " [1 0 1 0 1 0 1 0]]\n"
          ]
        }
      ]
    },
    {
      "cell_type": "markdown",
      "source": [
        "task 3"
      ],
      "metadata": {
        "id": "rPCzI1q3XOEe"
      }
    },
    {
      "cell_type": "code",
      "source": [
        "x = np.array([[1, 2], [3, 5]])\n",
        "y = np.array([[5, 6], [7, 8]])\n",
        "v = np.array([9, 10])\n",
        "w = np.array([11, 12])\n",
        "\n",
        "# Task 1: Add the two arrays\n",
        "print(\"Addition:\\n\", x + y)\n",
        "\n",
        "# Task 2: Subtract the two arrays\n",
        "print(\"\\nSubtraction:\\n\", x - y)\n",
        "\n",
        "# Task 3: Multiply the array with a scalar\n",
        "print(\"\\nMultiplication by 3:\\n\", x * 3)\n",
        "\n",
        "# Task 4: Find the square of each element\n",
        "print(\"\\nSquare of each element:\\n\", np.square(x))\n",
        "\n",
        "# Task 5: Dot product\n",
        "print(\"\\nDot product (v and w):\", np.dot(v, w))\n",
        "print(\"Dot product (x and v):\\n\", np.dot(x, v))\n",
        "print(\"Dot product (x and y):\\n\", np.dot(x, y))\n",
        "\n",
        "# Task 6: Concatenate x and y along row and v and w along column\n",
        "print(\"\\nConcatenate x and y along row:\\n\", np.vstack((x, y)))\n",
        "print(\"Concatenate v and w along column:\\n\", np.column_stack((v, w)))\n",
        "\n",
        "# Task 7: Concatenate x and v\n",
        "try:\n",
        "    print(\"\\nConcatenate x and v:\\n\", np.concatenate((x, v), axis=0))\n",
        "except ValueError as e:\n",
        "    print(\"\\nError encountered:\", e)\n",
        "    print(\"Explanation: The dimensions of x and v are incompatible for concatenation along rows.\")\n"
      ],
      "metadata": {
        "colab": {
          "base_uri": "https://localhost:8080/"
        },
        "id": "zX_rGKj5Vb8P",
        "outputId": "d90a74d1-ea61-4cea-9906-c9d2a3ef6819"
      },
      "execution_count": null,
      "outputs": [
        {
          "output_type": "stream",
          "name": "stdout",
          "text": [
            "Addition:\n",
            " [[ 6  8]\n",
            " [10 13]]\n",
            "\n",
            "Subtraction:\n",
            " [[-4 -4]\n",
            " [-4 -3]]\n",
            "\n",
            "Multiplication by 3:\n",
            " [[ 3  6]\n",
            " [ 9 15]]\n",
            "\n",
            "Square of each element:\n",
            " [[ 1  4]\n",
            " [ 9 25]]\n",
            "\n",
            "Dot product (v and w): 219\n",
            "Dot product (x and v):\n",
            " [29 77]\n",
            "Dot product (x and y):\n",
            " [[19 22]\n",
            " [50 58]]\n",
            "\n",
            "Concatenate x and y along row:\n",
            " [[1 2]\n",
            " [3 5]\n",
            " [5 6]\n",
            " [7 8]]\n",
            "Concatenate v and w along column:\n",
            " [[ 9 11]\n",
            " [10 12]]\n",
            "\n",
            "Error encountered: all the input arrays must have same number of dimensions, but the array at index 0 has 2 dimension(s) and the array at index 1 has 1 dimension(s)\n",
            "Explanation: The dimensions of x and v are incompatible for concatenation along rows.\n"
          ]
        }
      ]
    },
    {
      "cell_type": "markdown",
      "source": [
        "task 4"
      ],
      "metadata": {
        "id": "uDfStQ4BXMFv"
      }
    },
    {
      "cell_type": "code",
      "source": [
        "A = np.array([[3, 4], [7, 8]])\n",
        "B = np.array([[5, 3], [2, 1]])\n",
        "\n",
        "# Task 1: Prove A.A^(-1) = I\n",
        "A_inv = np.linalg.inv(A)\n",
        "identity_proof = np.dot(A, A_inv)\n",
        "print(\"A.A^(-1) = I:\\n\", identity_proof)\n",
        "\n",
        "# Task 2: Prove AB ≠ BA\n",
        "AB = np.dot(A, B)\n",
        "BA = np.dot(B, A)\n",
        "print(\"\\nAB:\\n\", AB)\n",
        "print(\"BA:\\n\", BA)\n",
        "\n",
        "# Task 3: Prove (AB)^T = B^T A^T\n",
        "print(\"\\n(AB)^T:\\n\", AB.T)\n",
        "print(\"B^T A^T:\\n\", np.dot(B.T, A.T))\n",
        "\n",
        "# Task 4: Solve the system of equations using the inverse method\n",
        "coefficients = np.array([[2, -3, 1], [1, -1, 2], [3, 1, -1]])\n",
        "constants = np.array([-1, -3, 9])\n",
        "solutions = np.linalg.solve(coefficients, constants)\n",
        "print(\"\\nSolutions to the system of equations:\\n\", solutions)\n"
      ],
      "metadata": {
        "colab": {
          "base_uri": "https://localhost:8080/"
        },
        "id": "9Zdje3noWnIv",
        "outputId": "69da32f5-e25e-4454-e8cb-78605119bfe9"
      },
      "execution_count": null,
      "outputs": [
        {
          "output_type": "stream",
          "name": "stdout",
          "text": [
            "A.A^(-1) = I:\n",
            " [[1.00000000e+00 0.00000000e+00]\n",
            " [1.77635684e-15 1.00000000e+00]]\n",
            "\n",
            "AB:\n",
            " [[23 13]\n",
            " [51 29]]\n",
            "BA:\n",
            " [[36 44]\n",
            " [13 16]]\n",
            "\n",
            "(AB)^T:\n",
            " [[23 51]\n",
            " [13 29]]\n",
            "B^T A^T:\n",
            " [[23 51]\n",
            " [13 29]]\n",
            "\n",
            "Solutions to the system of equations:\n",
            " [ 2.  1. -2.]\n"
          ]
        }
      ]
    },
    {
      "cell_type": "markdown",
      "source": [
        "task 5"
      ],
      "metadata": {
        "id": "rt2DNO3TXJWE"
      }
    },
    {
      "cell_type": "code",
      "source": [
        "import time\n",
        "\n",
        "# Element-wise addition\n",
        "list1 = list(range(1_000_000))\n",
        "list2 = list(range(1_000_000))\n",
        "start = time.time()\n",
        "list_result = [a + b for a, b in zip(list1, list2)]\n",
        "print(\"List addition time:\", time.time() - start)\n",
        "\n",
        "np_array1 = np.array(list1)\n",
        "np_array2 = np.array(list2)\n",
        "start = time.time()\n",
        "np_result = np_array1 + np_array2\n",
        "print(\"NumPy addition time:\", time.time() - start)\n",
        "\n",
        "# Element-wise multiplication\n",
        "start = time.time()\n",
        "list_result = [a * b for a, b in zip(list1, list2)]\n",
        "print(\"\\nList multiplication time:\", time.time() - start)\n",
        "\n",
        "start = time.time()\n",
        "np_result = np_array1 * np_array2\n",
        "print(\"NumPy multiplication time:\", time.time() - start)\n",
        "\n",
        "# Dot product\n",
        "start = time.time()\n",
        "dot_result = sum(a * b for a, b in zip(list1, list2))\n",
        "print(\"\\nList dot product time:\", time.time() - start)\n",
        "\n",
        "start = time.time()\n",
        "np_dot_result = np.dot(np_array1, np_array2)\n",
        "print(\"NumPy dot product time:\", time.time() - start)\n",
        "\n",
        "# Matrix multiplication\n",
        "matrix1 = [[1] * 1000 for _ in range(1000)]\n",
        "matrix2 = [[1] * 1000 for _ in range(1000)]\n",
        "start = time.time()\n",
        "result = [[sum(a * b for a, b in zip(row, col)) for col in zip(*matrix2)] for row in matrix1]\n",
        "print(\"\\nList matrix multiplication time:\", time.time() - start)\n",
        "\n",
        "np_matrix1 = np.ones((1000, 1000))\n",
        "np_matrix2 = np.ones((1000, 1000))\n",
        "start = time.time()\n",
        "np_result = np.dot(np_matrix1, np_matrix2)\n",
        "print(\"NumPy matrix multiplication time:\", time.time() - start)\n"
      ],
      "metadata": {
        "colab": {
          "base_uri": "https://localhost:8080/"
        },
        "id": "YxAW3624Wuq7",
        "outputId": "eb0968ae-ae52-4e60-defc-cb18dfbf785a"
      },
      "execution_count": null,
      "outputs": [
        {
          "output_type": "stream",
          "name": "stdout",
          "text": [
            "List addition time: 0.11145758628845215\n",
            "NumPy addition time: 0.005076169967651367\n",
            "\n",
            "List multiplication time: 0.1029806137084961\n",
            "NumPy multiplication time: 0.005317211151123047\n",
            "\n",
            "List dot product time: 0.11453628540039062\n",
            "NumPy dot product time: 0.0020215511322021484\n",
            "\n",
            "List matrix multiplication time: 118.70503616333008\n",
            "NumPy matrix multiplication time: 0.10613012313842773\n"
          ]
        }
      ]
    },
    {
      "cell_type": "code",
      "source": [
        "# Task 1: Create an array with values ranging from 10 to 49\n",
        "range_array = np.arange(10, 50)\n",
        "print(\"Array with values from 10 to 49:\\n\", range_array)\n",
        "\n",
        "# Task 2: Create a 3x3 matrix with values from 0 to 8\n",
        "matrix_3x3 = np.arange(9).reshape(3, 3)\n",
        "print(\"\\n3x3 Matrix:\\n\", matrix_3x3)\n",
        "\n",
        "# Task 3: Create a 3x3 identity matrix\n",
        "identity_matrix = np.eye(3)\n",
        "print(\"\\nIdentity Matrix:\\n\", identity_matrix)"
      ],
      "metadata": {
        "colab": {
          "base_uri": "https://localhost:8080/"
        },
        "id": "HJRFu9srb8wQ",
        "outputId": "fdecf21f-69d1-4e6b-d5b4-51f4cf4914e9"
      },
      "execution_count": null,
      "outputs": [
        {
          "output_type": "stream",
          "name": "stdout",
          "text": [
            "Array with values from 10 to 49:\n",
            " [10 11 12 13 14 15 16 17 18 19 20 21 22 23 24 25 26 27 28 29 30 31 32 33\n",
            " 34 35 36 37 38 39 40 41 42 43 44 45 46 47 48 49]\n",
            "\n",
            "3x3 Matrix:\n",
            " [[0 1 2]\n",
            " [3 4 5]\n",
            " [6 7 8]]\n",
            "\n",
            "Identity Matrix:\n",
            " [[1. 0. 0.]\n",
            " [0. 1. 0.]\n",
            " [0. 0. 1.]]\n"
          ]
        }
      ]
    },
    {
      "cell_type": "code",
      "source": [
        "# Task 5: Create a 10x10 array with random values and find min and max\n",
        "large_random_array = np.random.random((10, 10))\n",
        "print(\"\\nMinimum value:\", large_random_array.min())\n",
        "print(\"Maximum value:\", large_random_array.max())\n",
        "\n",
        "# Task 6: Create a zero array of size 10 and replace the 5th element with 1\n",
        "zero_array = np.zeros(10)\n",
        "zero_array[4] = 1\n",
        "print(\"\\nModified zero array:\\n\", zero_array)\n",
        "\n",
        "# Task 7: Reverse an array\n",
        "arr = [1, 2, 0, 0, 4, 0]\n",
        "reversed_array = arr[::-1]\n",
        "print(\"\\nReversed array:\\n\", reversed_array)"
      ],
      "metadata": {
        "colab": {
          "base_uri": "https://localhost:8080/"
        },
        "id": "KyD31GWgcPxG",
        "outputId": "d6e2584b-ed5f-412e-97f9-ebaecfbf73d8"
      },
      "execution_count": null,
      "outputs": [
        {
          "output_type": "stream",
          "name": "stdout",
          "text": [
            "\n",
            "Minimum value: 0.009199930959144731\n",
            "Maximum value: 0.992941718593039\n",
            "\n",
            "Modified zero array:\n",
            " [0. 0. 0. 0. 1. 0. 0. 0. 0. 0.]\n",
            "\n",
            "Reversed array:\n",
            " [0, 4, 0, 0, 2, 1]\n"
          ]
        }
      ]
    },
    {
      "cell_type": "code",
      "source": [
        "# Task 7: Reverse an array\n",
        "arr = [1, 2, 0, 0, 4, 0]\n",
        "reversed_array = arr[::-1]\n",
        "print(\"\\nReversed array:\\n\", reversed_array)\n",
        "\n",
        "# Task 8: Create a 2D array with 1 on border and 0 inside\n",
        "bordered_array = np.ones((5, 5))\n",
        "bordered_array[1:-1, 1:-1] = 0\n",
        "print(\"\\n2D array with border of 1s:\\n\", bordered_array)\n",
        "\n",
        "# Task 9: Create an 8x8 checkerboard pattern\n",
        "checkerboard = np.zeros((8, 8), dtype=int)\n",
        "checkerboard[1::2, ::2] = 1\n",
        "checkerboard[::2, 1::2] = 1\n",
        "print(\"\\nCheckerboard pattern:\\n\", checkerboard)"
      ],
      "metadata": {
        "colab": {
          "base_uri": "https://localhost:8080/"
        },
        "id": "rKj6x38TcZXS",
        "outputId": "d560c77c-43e3-46c9-fc79-807f275e3b36"
      },
      "execution_count": null,
      "outputs": [
        {
          "output_type": "stream",
          "name": "stdout",
          "text": [
            "\n",
            "Reversed array:\n",
            " [0, 4, 0, 0, 2, 1]\n",
            "\n",
            "2D array with border of 1s:\n",
            " [[1. 1. 1. 1. 1.]\n",
            " [1. 0. 0. 0. 1.]\n",
            " [1. 0. 0. 0. 1.]\n",
            " [1. 0. 0. 0. 1.]\n",
            " [1. 1. 1. 1. 1.]]\n",
            "\n",
            "Checkerboard pattern:\n",
            " [[0 1 0 1 0 1 0 1]\n",
            " [1 0 1 0 1 0 1 0]\n",
            " [0 1 0 1 0 1 0 1]\n",
            " [1 0 1 0 1 0 1 0]\n",
            " [0 1 0 1 0 1 0 1]\n",
            " [1 0 1 0 1 0 1 0]\n",
            " [0 1 0 1 0 1 0 1]\n",
            " [1 0 1 0 1 0 1 0]]\n"
          ]
        }
      ]
    },
    {
      "cell_type": "code",
      "source": [
        "x = np.array([[1, 2], [3, 5]])\n",
        "y = np.array([[5, 6], [7, 8]])\n",
        "v = np.array([9, 10])\n",
        "w = np.array([11, 12])\n",
        "\n",
        "# Task 1: Add the two arrays\n",
        "print(\"Addition:\\n\", x + y)\n",
        "\n",
        "# Task 2: Subtract the two arrays\n",
        "print(\"\\nSubtraction:\\n\", x - y)\n",
        "\n",
        "# Task 3: Multiply the array with a scalar\n",
        "print(\"\\nMultiplication by 5:\\n\", x * 5)\n",
        "\n",
        "# Task 4: Find the square of each element\n",
        "print(\"\\nSquare of each element:\\n\", np.square(x))\n",
        "\n",
        "# Task 5: Dot product\n",
        "print(\"\\nDot product (v and w):\", np.dot(v, w))\n",
        "print(\"Dot product (x and v):\\n\", np.dot(x, v))\n",
        "print(\"Dot product (x and y):\\n\", np.dot(x, y))\n",
        "\n",
        "# Task 6: Concatenate x and y along row and v and w along column\n",
        "print(\"\\nConcatenate x and y along row:\\n\", np.vstack((x, y)))\n",
        "print(\"Concatenate v and w along column:\\n\", np.column_stack((v, w)))\n",
        "\n",
        "\n"
      ],
      "metadata": {
        "colab": {
          "base_uri": "https://localhost:8080/"
        },
        "id": "g2P6IibcdKdu",
        "outputId": "4ff82351-946e-4cc8-fd3f-4b5dd48575da"
      },
      "execution_count": null,
      "outputs": [
        {
          "output_type": "stream",
          "name": "stdout",
          "text": [
            "Addition:\n",
            " [[ 6  8]\n",
            " [10 13]]\n",
            "\n",
            "Subtraction:\n",
            " [[-4 -4]\n",
            " [-4 -3]]\n",
            "\n",
            "Multiplication by 5:\n",
            " [[ 5 10]\n",
            " [15 25]]\n",
            "\n",
            "Square of each element:\n",
            " [[ 1  4]\n",
            " [ 9 25]]\n",
            "\n",
            "Dot product (v and w): 219\n",
            "Dot product (x and v):\n",
            " [29 77]\n",
            "Dot product (x and y):\n",
            " [[19 22]\n",
            " [50 58]]\n",
            "\n",
            "Concatenate x and y along row:\n",
            " [[1 2]\n",
            " [3 5]\n",
            " [5 6]\n",
            " [7 8]]\n",
            "Concatenate v and w along column:\n",
            " [[ 9 11]\n",
            " [10 12]]\n"
          ]
        }
      ]
    }
  ]
}